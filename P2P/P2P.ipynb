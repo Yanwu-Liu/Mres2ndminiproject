{
 "cells": [
  {
   "cell_type": "code",
   "execution_count": 1,
   "metadata": {},
   "outputs": [],
   "source": [
    "#A point to point SMF Gaussian beam propagation through 2 lenses\n",
    "#working wavelength for TC18APC-1550: 1465 - 1648 nm\n",
    "\n",
    "import os\n",
    "import sys\n",
    "sys.path.append('..') \n",
    "\n",
    "import importlib\n",
    "import modified_matrix_tracer\n",
    "importlib.reload(modified_matrix_tracer)\n",
    "\n",
    "from modified_matrix_tracer import GaussianBeam, FreeSpaceIterator, ThinLens, Misalignment\n",
    "import matplotlib.pyplot as plt\n",
    "from matplotlib.patches import Circle\n",
    "from cycler import cycler\n",
    "import numpy as np\n",
    "import operator\n",
    "\n",
    "\n",
    "#sample\n",
    "Nsamples = 1000\n",
    "scale = 1e3 #plot in um\n",
    "\n",
    "\n",
    "#fibre\n",
    "SMF28_fibre_para = {\n",
    "\"core_diameter\": 8.2e-6,\n",
    "\"core_beam_x0\":0,\n",
    "\"core_beam_theta\":0,\n",
    "\"NA\": 0.14\n",
    "}\n",
    "\n",
    "#lens\n",
    "#lens\n",
    "TC18APC1550_para = {\n",
    "\"focal\" : 18.36e-3,\n",
    "\"clear_aperture\" : 10e-3,\n",
    "\"outer_diameter\" : 14.9e-3,\n",
    "    \"length\": 33.5e-3,\n",
    "#\"wavelength_range\": np.linspace(1465.0e-9, 1650.0e-9, num=38)\n",
    " \"wavelength_range\": [1465.0e-9, 1550.0e-9, 1648.0e-9],\n",
    " \"MFD_mode_solver\":[9.94746832156340e-6, 10.3988077139997e-6, 10.9710948505490e-6]\n",
    "}\n",
    "\n",
    "\n",
    "\n",
    "\n",
    "#10 colour keys\n",
    "color_cycle = plt.rcParams['axes.prop_cycle'].by_key()['color'] \n",
    "\n",
    "\n",
    "zmax_against_wavelength = []\n",
    "RX_wr_vec = []"
   ]
  },
  {
   "cell_type": "code",
   "execution_count": 2,
   "metadata": {},
   "outputs": [],
   "source": [
    "#The 5 step propgation between 2 lenses:\n",
    "\n",
    "#ideal scenario\n",
    "def ideal_p2p_propagation(beam, lens, z, focal_length, Nsamples):\n",
    "    \n",
    "    #1. From TX fibre to 1st lens, propagate a free space distance of focal length\n",
    "    FreeSpaceIterator(beam, distance=focal_length, samples= Nsamples)\n",
    "    #2. Pass through 1 st lens\n",
    "    beam.propagate(lens)\n",
    "    #3. Propagate a free space distance z\n",
    "    FreeSpaceIterator(beam, distance=z, samples=Nsamples)\n",
    "    \n",
    "    #4. Pass through 2nd lens\n",
    "    beam.propagate(lens)\n",
    "    #5. Refocus to exit fibre end, propagate a free space distance of focal length\n",
    "    FreeSpaceIterator(beam, distance=focal_length, samples= Nsamples)\n",
    "    \n",
    "    return beam"
   ]
  },
  {
   "cell_type": "code",
   "execution_count": 3,
   "metadata": {},
   "outputs": [
    {
     "data": {
      "image/png": "[encoded data removed]",
      "text/plain": [
       "<Figure size 432x288 with 1 Axes>"
      ]
     },
     "metadata": {
      "needs_background": "light"
     },
     "output_type": "display_data"
    },
    {
     "name": "stdout",
     "output_type": "stream",
     "text": [
      "\n",
      "Exit MFD at 1550nm: 1.0398807714038995e-05\n"
     ]
    }
   ],
   "source": [
    "\n",
    "\n",
    "for wavelength, MFD in zip(TC18APC1550_para[\"wavelength_range\"], TC18APC1550_para[\"MFD_mode_solver\"]):\n",
    "    \n",
    "   #Gaussian beam SMF centre core located at x  = 0, theta = 0\n",
    "    core_beam = GaussianBeam(SMF28_fibre_para[\"core_beam_x0\"], SMF28_fibre_para[\"core_beam_theta\"], MFD, wavelength)\n",
    "    \n",
    "    #Triplet collimator TC18X-1550, focal = 18.36 mm\n",
    "    TC18APC1550 = ThinLens(TC18APC1550_para[\"focal\"])\n",
    "    #theoretical maximum working distance to maintain collimation\n",
    "    zmax = TC18APC1550.lens_maximum_working_distance(TC18APC1550_para[\"focal\"], wavelength, MFD) #meters\n",
    "    #append in vector\n",
    "    zmax_against_wavelength.append(zmax)\n",
    "    \n",
    "    lens1_location = TC18APC1550_para[\"focal\"]\n",
    "    lens2_location = TC18APC1550_para[\"focal\"] + zmax\n",
    "  \n",
    "\n",
    "\n",
    "    \n",
    "    \n",
    "    #propagate the ideal process of p2p link\n",
    "    core_beam = ideal_p2p_propagation(core_beam, TC18APC1550, zmax, TC18APC1550_para[\"focal\"], Nsamples)\n",
    "    \n",
    "\n",
    "    \n",
    "    #The beam radius fed into RX fibre\n",
    "    RX_wr = core_beam.beam_radius_upper()[-1]\n",
    "    RX_wr_vec.append(RX_wr)\n",
    "    \n",
    "          \n",
    "\n",
    "    #plot the scenario for 1550nm \n",
    "    if wavelength == 1550e-09:\n",
    "    \n",
    "              \n",
    "        # Plotting\n",
    "        plt.figure()\n",
    "        plt.plot(scale*np.array(core_beam.centre_ray.z_distance), scale *\n",
    "                np.array(core_beam.beam_radius_upper()), color='black', linestyle='--')\n",
    "        plt.plot(scale*np.array(core_beam.centre_ray.z_distance), scale *\n",
    "                np.array(core_beam.beam_radius_lower()), color='black', linestyle='--')\n",
    "        plt.plot(scale*np.array(core_beam.centre_ray.z_distance),\n",
    "                [scale*i[0, 0] for i in core_beam.centre_ray.vector], color='black')\n",
    "\n",
    "\n",
    "        # Plot lens positions\n",
    "        # 10mm lens width\n",
    "        # see https://www.thorlabs.com/newgrouppage9.cfm?objectgroup_id=5124\n",
    "        aperture_y = np.array([1, -1])*TC18APC1550_para[\"clear_aperture\"]/2\n",
    "        aperture_x = np.array([1, 1])\n",
    "        plt.plot(aperture_x*lens1_location*scale, aperture_y*scale, color='red')\n",
    "        plt.plot(aperture_x*lens2_location*scale, aperture_y*scale, color='blue')\n",
    "        plt.xlabel('(mm)')\n",
    "        plt.ylabel('(mm)')\n",
    "        plt.grid()\n",
    "        plt.title('Ray tracing model for triplet collimator TC18X-1550, focal = 18.36 mm, wavelength = 1550nm')\n",
    "        plt.show()\n",
    "        \n",
    "        \n",
    "        \n",
    "        print()\n",
    "        exit_MFD = core_beam.beam_radius_upper()[-1] - core_beam.beam_radius_lower()[-1]\n",
    "        print(\"Exit MFD at 1550nm: {}\".format(exit_MFD))\n",
    "        \n",
    "        \n",
    "\n",
    "    \n",
    "    "
   ]
  },
  {
   "cell_type": "code",
   "execution_count": null,
   "metadata": {},
   "outputs": [],
   "source": []
  },
  {
   "cell_type": "code",
   "execution_count": null,
   "metadata": {},
   "outputs": [],
   "source": []
  },
  {
   "cell_type": "code",
   "execution_count": null,
   "metadata": {},
   "outputs": [],
   "source": []
  },
  {
   "cell_type": "code",
   "execution_count": null,
   "metadata": {},
   "outputs": [],
   "source": []
  },
  {
   "cell_type": "code",
   "execution_count": null,
   "metadata": {},
   "outputs": [],
   "source": []
  }
 ],
 "metadata": {
  "kernelspec": {
   "display_name": "Python 3",
   "language": "python",
   "name": "python3"
  },
  "language_info": {
   "codemirror_mode": {
    "name": "ipython",
    "version": 3
   },
   "file_extension": ".py",
   "mimetype": "text/x-python",
   "name": "python",
   "nbconvert_exporter": "python",
   "pygments_lexer": "ipython3",
   "version": "3.6.7"
  }
 },
 "nbformat": 4,
 "nbformat_minor": 4
}
